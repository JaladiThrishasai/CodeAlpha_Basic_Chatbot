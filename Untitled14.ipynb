{
 "cells": [
  {
   "cell_type": "code",
   "execution_count": 1,
   "id": "d8d74f28",
   "metadata": {},
   "outputs": [
    {
     "name": "stdout",
     "output_type": "stream",
     "text": [
      "Requirement already satisfied: nltk in c:\\users\\jalad\\anaconda3\\lib\\site-packages (3.8.1)\n",
      "Requirement already satisfied: click in c:\\users\\jalad\\anaconda3\\lib\\site-packages (from nltk) (8.0.4)\n",
      "Requirement already satisfied: joblib in c:\\users\\jalad\\anaconda3\\lib\\site-packages (from nltk) (1.2.0)\n",
      "Requirement already satisfied: regex>=2021.8.3 in c:\\users\\jalad\\anaconda3\\lib\\site-packages (from nltk) (2022.7.9)\n",
      "Requirement already satisfied: tqdm in c:\\users\\jalad\\anaconda3\\lib\\site-packages (from nltk) (4.65.0)\n",
      "Requirement already satisfied: colorama in c:\\users\\jalad\\anaconda3\\lib\\site-packages (from click->nltk) (0.4.6)\n",
      "Note: you may need to restart the kernel to use updated packages.\n"
     ]
    }
   ],
   "source": [
    "pip install nltk"
   ]
  },
  {
   "cell_type": "code",
   "execution_count": 2,
   "id": "1803c009",
   "metadata": {},
   "outputs": [
    {
     "name": "stderr",
     "output_type": "stream",
     "text": [
      "[nltk_data] Downloading package punkt to\n",
      "[nltk_data]     C:\\Users\\jalad\\AppData\\Roaming\\nltk_data...\n",
      "[nltk_data]   Package punkt is already up-to-date!\n",
      "[nltk_data] Downloading package wordnet to\n",
      "[nltk_data]     C:\\Users\\jalad\\AppData\\Roaming\\nltk_data...\n",
      "[nltk_data]   Package wordnet is already up-to-date!\n"
     ]
    },
    {
     "data": {
      "text/plain": [
       "True"
      ]
     },
     "execution_count": 2,
     "metadata": {},
     "output_type": "execute_result"
    }
   ],
   "source": [
    "import nltk\n",
    "nltk.download('punkt')\n",
    "nltk.download('wordnet')"
   ]
  },
  {
   "cell_type": "code",
   "execution_count": 4,
   "id": "fc93bb04",
   "metadata": {},
   "outputs": [
    {
     "name": "stdout",
     "output_type": "stream",
     "text": [
      "Chatbot: Hello! I'm a chatbot. Type 'bye' to exit.\n",
      "You: bye\n",
      "Chatbot: Goodbye! Have a great day!\n"
     ]
    }
   ],
   "source": [
    "import nltk\n",
    "from nltk.stem import WordNetLemmatizer\n",
    "from nltk.corpus import stopwords\n",
    "import random\n",
    "import string\n",
    "\n",
    "# Initialize the lemmatizer\n",
    "lemmatizer = WordNetLemmatizer()\n",
    "\n",
    "# Sample corpus (you can expand this for more detailed conversations)\n",
    "corpus = [\n",
    "    \"Hello, how are you?\",\n",
    "    \"Hi, I am good. How can I assist you?\",\n",
    "    \"What is your name?\",\n",
    "    \"My name is Chatbot.\",\n",
    "    \"How are you?\",\n",
    "    \"I'm just a program, but I'm here to help you.\",\n",
    "    \"Goodbye\",\n",
    "    \"See you later! Have a great day!\"\n",
    "]\n",
    "\n",
    "# Tokenize and lemmatize the corpus\n",
    "corpus_tokens = [nltk.word_tokenize(sentence.lower()) for sentence in corpus]\n",
    "corpus_tokens = [[lemmatizer.lemmatize(token) for token in tokens] for tokens in corpus_tokens]\n",
    "\n",
    "# Create a function to preprocess the user input\n",
    "def preprocess_input(user_input):\n",
    "    tokens = nltk.word_tokenize(user_input.lower())\n",
    "    tokens = [lemmatizer.lemmatize(token) for token in tokens if token not in stopwords.words('english') and token not in string.punctuation]\n",
    "    return tokens\n",
    "\n",
    "# Function to generate a response\n",
    "def generate_response(user_input):\n",
    "    user_tokens = preprocess_input(user_input)\n",
    "    max_overlap = 0\n",
    "    best_match_idx = -1\n",
    "\n",
    "    # Compare user input tokens with corpus tokens\n",
    "    for i, sentence_tokens in enumerate(corpus_tokens):\n",
    "        overlap = len(set(user_tokens) & set(sentence_tokens))\n",
    "        if overlap > max_overlap:\n",
    "            max_overlap = overlap\n",
    "            best_match_idx = i\n",
    "\n",
    "    if max_overlap > 0:\n",
    "        return corpus[best_match_idx]\n",
    "    else:\n",
    "        return \"I'm not sure how to respond to that. Can you rephrase?\"\n",
    "\n",
    "# Main chatbot function\n",
    "def chatbot():\n",
    "    print(\"Chatbot: Hello! I'm a chatbot. Type 'bye' to exit.\")\n",
    "\n",
    "    while True:\n",
    "        user_input = input(\"You: \")\n",
    "\n",
    "        if user_input.lower() == \"bye\":\n",
    "            print(\"Chatbot: Goodbye! Have a great day!\")\n",
    "            break\n",
    "\n",
    "        response = generate_response(user_input)\n",
    "        print(\"Chatbot: \" + response)\n",
    "\n",
    "# Run the chatbot\n",
    "chatbot()\n"
   ]
  },
  {
   "cell_type": "code",
   "execution_count": null,
   "id": "fc9f056c",
   "metadata": {},
   "outputs": [],
   "source": []
  }
 ],
 "metadata": {
  "kernelspec": {
   "display_name": "Python 3 (ipykernel)",
   "language": "python",
   "name": "python3"
  },
  "language_info": {
   "codemirror_mode": {
    "name": "ipython",
    "version": 3
   },
   "file_extension": ".py",
   "mimetype": "text/x-python",
   "name": "python",
   "nbconvert_exporter": "python",
   "pygments_lexer": "ipython3",
   "version": "3.11.5"
  }
 },
 "nbformat": 4,
 "nbformat_minor": 5
}
